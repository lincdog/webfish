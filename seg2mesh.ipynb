{
 "cells": [
  {
   "cell_type": "code",
   "execution_count": null,
   "id": "automated-mambo",
   "metadata": {},
   "outputs": [],
   "source": [
    "import tifffile as tif\n",
    "import scipy.ndimage as ndi\n",
    "import skimage.measure as skim\n",
    "import skimage.feature as skif\n",
    "import skimage.morphology as skimo\n",
    "import skimage.transform as skit\n",
    "import numpy as np\n",
    "import pandas as pd\n",
    "from tqdm import tqdm"
   ]
  },
  {
   "cell_type": "code",
   "execution_count": null,
   "id": "differential-document",
   "metadata": {},
   "outputs": [],
   "source": [
    "import matplotlib.pyplot as plt"
   ]
  },
  {
   "cell_type": "code",
   "execution_count": null,
   "id": "champion-cisco",
   "metadata": {},
   "outputs": [],
   "source": [
    "im = tif.imread('labeled_img_post.tif')"
   ]
  },
  {
   "cell_type": "code",
   "execution_count": null,
   "id": "accepting-vietnam",
   "metadata": {},
   "outputs": [],
   "source": [
    "im.shape"
   ]
  },
  {
   "cell_type": "code",
   "execution_count": null,
   "id": "expired-hardware",
   "metadata": {},
   "outputs": [],
   "source": [
    "im.max()"
   ]
  },
  {
   "cell_type": "code",
   "execution_count": null,
   "id": "applicable-benchmark",
   "metadata": {},
   "outputs": [],
   "source": [
    "px_size = (0.5, 0.11, 0.11)"
   ]
  },
  {
   "cell_type": "code",
   "execution_count": null,
   "id": "linear-disorder",
   "metadata": {},
   "outputs": [],
   "source": [
    "dots = pd.read_csv('pre_seg_diff_1_minseeds_3_filtered.csv')\n",
    "dots.head()"
   ]
  },
  {
   "cell_type": "code",
   "execution_count": null,
   "id": "peripheral-process",
   "metadata": {},
   "outputs": [],
   "source": [
    "scale_factor = (1., 1./16, 1./16)\n",
    "\n",
    "px_scaled = tuple(a/b for a, b in zip(px_size, scale_factor))\n",
    "\n",
    "im_small = skit.rescale(im, \n",
    "                       scale_factor, \n",
    "                       order=0, \n",
    "                       mode='reflect', \n",
    "                       cval=0, \n",
    "                       clip=True, \n",
    "                       preserve_range=True, \n",
    "                       anti_aliasing=False, \n",
    "                       anti_aliasing_sigma=None\n",
    "                      ).astype(np.uint8)"
   ]
  },
  {
   "cell_type": "code",
   "execution_count": null,
   "id": "fancy-census",
   "metadata": {},
   "outputs": [],
   "source": [
    "px_scaled"
   ]
  },
  {
   "cell_type": "code",
   "execution_count": null,
   "id": "standard-dream",
   "metadata": {},
   "outputs": [],
   "source": [
    "im_small.dtype"
   ]
  },
  {
   "cell_type": "code",
   "execution_count": null,
   "id": "irish-gateway",
   "metadata": {},
   "outputs": [],
   "source": [
    "with tif.TiffWriter('labeled_small.tif') as w:\n",
    "    w.write(im_small)"
   ]
  },
  {
   "cell_type": "markdown",
   "id": "comic-child",
   "metadata": {},
   "source": [
    "## Triangulate each labeled region separately\n",
    "\n",
    "Use `skimage.measure.marching_cubes` to generate triangulated mesh for each labeled region. \n",
    "\n",
    "Also add the bounding box origin of each region so that when they are combined their relative\n",
    "positions are correct."
   ]
  },
  {
   "cell_type": "code",
   "execution_count": null,
   "id": "banned-sacrifice",
   "metadata": {},
   "outputs": [],
   "source": [
    "region_meshes = []\n",
    "\n",
    "for r in tqdm(skim.regionprops(im_small)):\n",
    "    # compute isosurface on 1 px padded image\n",
    "    tris = skim.marching_cubes(\n",
    "        np.pad(r.image, ((1, 1), (1, 1), (1, 1))),\n",
    "        level=0.5, \n",
    "        spacing=px_scaled,\n",
    "        step_size=1\n",
    "    )\n",
    "    # add corner coordinates to properly position points\n",
    "    new_pts = np.add(tris[0]-np.array(px_scaled), np.multiply(px_scaled, r.bbox[:3]))\n",
    "    \n",
    "    region_meshes.append((new_pts, tris[1])) # skip normals for now\n",
    "    "
   ]
  },
  {
   "cell_type": "code",
   "execution_count": null,
   "id": "undefined-witness",
   "metadata": {},
   "outputs": [],
   "source": [
    "(tris[0] - np.array(px_scaled)).min(axis=0)"
   ]
  },
  {
   "cell_type": "code",
   "execution_count": null,
   "id": "military-latest",
   "metadata": {},
   "outputs": [],
   "source": [
    "sum([a[0].nbytes+a[1].nbytes for a in region_meshes])/1e6"
   ]
  },
  {
   "cell_type": "code",
   "execution_count": null,
   "id": "wrong-indian",
   "metadata": {},
   "outputs": [],
   "source": [
    "def combine_meshes(mesharr, indices):\n",
    "    \"\"\"\n",
    "    combine_meshes\n",
    "    --------------\n",
    "    take any combo of individual meshes and concatenate them,\n",
    "    adding appropriate offsets to the point indices in the faces array.\n",
    "    \"\"\"\n",
    "    if indices is None:\n",
    "        indices = range(len(mesharr))\n",
    "        \n",
    "    indices = np.atleast_1d(indices)\n",
    "    \n",
    "    comb_pts = []\n",
    "    comb_tris = []\n",
    "    maxpt = 0\n",
    "    \n",
    "    for ind in indices:\n",
    "        pts = mesharr[ind][0]\n",
    "        tris = mesharr[ind][1]\n",
    "        comb_pts.extend(pts)\n",
    "        comb_tris.extend(tris+maxpt)\n",
    "        maxpt += len(pts)\n",
    "        \n",
    "    return np.array(comb_pts), np.array(comb_tris)"
   ]
  },
  {
   "cell_type": "code",
   "execution_count": null,
   "id": "requested-mistress",
   "metadata": {},
   "outputs": [],
   "source": [
    "comb_test = combine_meshes(region_meshes, None)"
   ]
  },
  {
   "cell_type": "code",
   "execution_count": null,
   "id": "convinced-indication",
   "metadata": {},
   "outputs": [],
   "source": [
    "len(comb_test[0]), len(comb_test[1])"
   ]
  },
  {
   "cell_type": "markdown",
   "id": "noticed-smooth",
   "metadata": {},
   "source": [
    "## Entire field triangulation version"
   ]
  },
  {
   "cell_type": "code",
   "execution_count": null,
   "id": "spread-faculty",
   "metadata": {},
   "outputs": [],
   "source": [
    "region_meshes = []\n",
    "\n",
    "tris = skim.marching_cubes(\n",
    "    np.pad(im_small>0, ((1, 1), (1, 1), (1, 1))),\n",
    "    level=0.5, \n",
    "    spacing=px_scaled,\n",
    "    step_size=1\n",
    ")\n",
    "\n",
    "comb_test = (tris[0], tris[1])"
   ]
  },
  {
   "cell_type": "code",
   "execution_count": null,
   "id": "behavioral-universe",
   "metadata": {},
   "outputs": [],
   "source": [
    "len(comb_test[0]), len(comb_test[1])"
   ]
  },
  {
   "cell_type": "code",
   "execution_count": null,
   "id": "significant-lying",
   "metadata": {},
   "outputs": [],
   "source": [
    "comb_test[0].min(axis=0)"
   ]
  },
  {
   "cell_type": "code",
   "execution_count": null,
   "id": "fitting-atlanta",
   "metadata": {},
   "outputs": [],
   "source": [
    "z,y,x = comb_test[0].T\n",
    "i,j,k = comb_test[1].T"
   ]
  },
  {
   "cell_type": "markdown",
   "id": "graphic-discretion",
   "metadata": {},
   "source": [
    "## Triangulated mesh"
   ]
  },
  {
   "cell_type": "code",
   "execution_count": null,
   "id": "organic-operator",
   "metadata": {},
   "outputs": [],
   "source": [
    "import plotly.graph_objects as go\n",
    "\n",
    "fig = go.Figure(data=[go.Mesh3d(x=x, y=y, z=z, \n",
    "                                i=i, j=j, k=k,\n",
    "                                color='lightpink', opacity=1)\n",
    "                     ])\n",
    "fig.show()"
   ]
  },
  {
   "cell_type": "markdown",
   "id": "atmospheric-karma",
   "metadata": {},
   "source": [
    "## Delauney of edge pixels?"
   ]
  },
  {
   "cell_type": "markdown",
   "id": "distinct-coupon",
   "metadata": {},
   "source": [
    "## Decimation with pyvista"
   ]
  },
  {
   "cell_type": "code",
   "execution_count": null,
   "id": "adverse-papua",
   "metadata": {},
   "outputs": [],
   "source": [
    "import pyvista as pv"
   ]
  },
  {
   "cell_type": "code",
   "execution_count": null,
   "id": "collect-collectible",
   "metadata": {},
   "outputs": [],
   "source": [
    "def tris2pyvista(tris):\n",
    "    return np.pad(tris, ((0, 0), (1, 0)), constant_values=3)\n",
    "\n",
    "def pyvista2tris(faces):\n",
    "    assert all(faces[::4]==3), 'At least one face is not a triangle'\n",
    "    \n",
    "    ntris = len(faces)//4\n",
    "    \n",
    "    selector = [False, True, True, True] * ntris\n",
    "    \n",
    "    return np.compress(selector, faces).reshape((ntris,3))\n",
    "    "
   ]
  },
  {
   "cell_type": "code",
   "execution_count": null,
   "id": "cognitive-documentary",
   "metadata": {},
   "outputs": [],
   "source": [
    "len(region_meshes)"
   ]
  },
  {
   "cell_type": "code",
   "execution_count": null,
   "id": "suitable-hampton",
   "metadata": {},
   "outputs": [],
   "source": [
    "from concurrent.futures import ThreadPoolExecutor, wait, ALL_COMPLETED"
   ]
  },
  {
   "cell_type": "code",
   "execution_count": null,
   "id": "integral-surgery",
   "metadata": {},
   "outputs": [],
   "source": [
    "comb_all = combine_meshes(region_meshes, None)"
   ]
  },
  {
   "cell_type": "code",
   "execution_count": null,
   "id": "automatic-qatar",
   "metadata": {},
   "outputs": [],
   "source": [
    "def decimate_mapper(mesh, target=0.8):\n",
    "    poly = pv.PolyData(mesh[0], tris2pyvista(mesh[1]))\n",
    "    poly_dec = poly.decimate(target)\n",
    "\n",
    "    return (poly_dec.points, pyvista2tris(poly_dec.faces))"
   ]
  },
  {
   "cell_type": "code",
   "execution_count": null,
   "id": "rapid-radical",
   "metadata": {},
   "outputs": [],
   "source": [
    "list.pop?"
   ]
  },
  {
   "cell_type": "code",
   "execution_count": null,
   "id": "indian-saudi",
   "metadata": {},
   "outputs": [],
   "source": [
    "decimated_meshes = []\n",
    "\n",
    "workers = 8\n",
    "\n",
    "with ThreadPoolExecutor(max_workers=workers) as tpe:\n",
    "    \n",
    "    while len(region_meshes) != 0:\n",
    "        print(f'meshes left = {len(region_meshes)}')\n",
    "        working = []\n",
    "        try:\n",
    "            # take the first `workers` sub-meshes, if available\n",
    "            [ working.append(region_meshes.pop(0)) for _ in range(workers) ]\n",
    "        except:\n",
    "            pass\n",
    "        \n",
    "        wfuts = [ tpe.submit(decimate_mapper, w) for w in working ]\n",
    "        \n",
    "        wait(wfuts)\n",
    "        \n",
    "        decimated_meshes.extend([f.result() for f in wfuts])"
   ]
  },
  {
   "cell_type": "code",
   "execution_count": null,
   "id": "empirical-winter",
   "metadata": {},
   "outputs": [],
   "source": [
    "decimated_comb = combine_meshes(decimated_meshes, None)"
   ]
  },
  {
   "cell_type": "code",
   "execution_count": null,
   "id": "sustained-smoke",
   "metadata": {},
   "outputs": [],
   "source": [
    "len(decimated_comb[0]), len(decimated_comb[1])"
   ]
  },
  {
   "cell_type": "markdown",
   "id": "rental-silence",
   "metadata": {},
   "source": [
    "## Decimated triangulated mesh"
   ]
  },
  {
   "cell_type": "code",
   "execution_count": null,
   "id": "relevant-turning",
   "metadata": {},
   "outputs": [],
   "source": [
    "import plotly.graph_objects as go\n",
    "\n",
    "z,y,x = decimated_comb[0].T\n",
    "i,j,k = decimated_comb[1].T\n",
    "\n",
    "fig = go.Figure(data=[go.Mesh3d(x=x, y=y, z=z, \n",
    "                                i=i, j=j, k=k,\n",
    "                                color='lightpink', opacity=0.9)])\n",
    "fig.show()"
   ]
  },
  {
   "cell_type": "code",
   "execution_count": null,
   "id": "driving-marsh",
   "metadata": {},
   "outputs": [],
   "source": []
  },
  {
   "cell_type": "markdown",
   "id": "fifteen-happening",
   "metadata": {},
   "source": [
    "# 2D slicewise contours"
   ]
  },
  {
   "cell_type": "code",
   "execution_count": null,
   "id": "falling-synthetic",
   "metadata": {},
   "outputs": [],
   "source": [
    "def im2slicecontours(im, approx=2):\n",
    "    slicecontours = []\n",
    "    \n",
    "    for i, s in enumerate(im):\n",
    "        cont = skim.find_contours(\n",
    "                np.pad(s>0, ((1, 1), (1, 1))),\n",
    "                level=0.5, \n",
    "                fully_connected='high'\n",
    "            )\n",
    "\n",
    "        # add the Z coordinate in front and simplify the contours in one statement\n",
    "        slicecontours.extend([ \n",
    "            np.pad(\n",
    "                skim.approximate_polygon(c, approx),\n",
    "                    ((0, 0), (1, 0)), constant_values=i\n",
    "                )\n",
    "            for c in cont if len(c) > 3 \n",
    "        ])\n",
    "        \n",
    "    return slicecontours\n",
    "    "
   ]
  },
  {
   "cell_type": "code",
   "execution_count": null,
   "id": "geographic-intent",
   "metadata": {},
   "outputs": [],
   "source": [
    "test = im2slicecontours(im)"
   ]
  },
  {
   "cell_type": "code",
   "execution_count": null,
   "id": "taken-latter",
   "metadata": {},
   "outputs": [],
   "source": [
    "sum([len(s) for s in test])"
   ]
  },
  {
   "cell_type": "code",
   "execution_count": null,
   "id": "accessible-appearance",
   "metadata": {},
   "outputs": [],
   "source": [
    "sum([len(a) for a in appcont])/sum([len(c) for c in cont])"
   ]
  },
  {
   "cell_type": "code",
   "execution_count": null,
   "id": "oriented-workshop",
   "metadata": {},
   "outputs": [],
   "source": [
    "fig, ax = plt.subplots(figsize=(10,10))\n",
    "plt.imshow(im[0]>0)\n",
    "for c in appcont:\n",
    "    plt.plot(c.T[1], c.T[0])\n",
    "    \n",
    "plt.show()"
   ]
  },
  {
   "cell_type": "code",
   "execution_count": null,
   "id": "assumed-clearing",
   "metadata": {},
   "outputs": [],
   "source": [
    "import plotly.express as px\n",
    "\n",
    "z,y,x = test[0].T\n",
    "\n",
    "fig = px.line_3d(x=x, y=y, z=z)\n",
    "fig.show()"
   ]
  },
  {
   "cell_type": "code",
   "execution_count": null,
   "id": "friendly-uzbekistan",
   "metadata": {},
   "outputs": [],
   "source": [
    "import plotly.graph_objects as go\n",
    "\n",
    "\n",
    "fig = go.Figure(data=[\n",
    "    go.Scatter3d(x=c.T[2], y=c.T[1], z=c.T[0],\n",
    "                marker=dict(size=0),\n",
    "                line=dict(\n",
    "                color='darkblue',\n",
    "                width=0.5))\n",
    "    for c in test[:3]\n",
    "])\n",
    "fig.show()"
   ]
  },
  {
   "cell_type": "code",
   "execution_count": null,
   "id": "fancy-acrylic",
   "metadata": {},
   "outputs": [],
   "source": [
    "test_concat = np.vstack(test)"
   ]
  },
  {
   "cell_type": "code",
   "execution_count": null,
   "id": "hungry-supply",
   "metadata": {},
   "outputs": [],
   "source": [
    "test_concat.shape"
   ]
  },
  {
   "cell_type": "code",
   "execution_count": null,
   "id": "average-decision",
   "metadata": {},
   "outputs": [],
   "source": [
    "import plotly.graph_objects as go\n",
    "\n",
    "z,y,x = test_concat.T\n",
    "\n",
    "fig = go.Figure(data=[go.Mesh3d(x=x, y=y, z=z, \n",
    "                                color='lightpink', opacity=0.50)])\n",
    "fig.show()"
   ]
  },
  {
   "cell_type": "markdown",
   "id": "satellite-horror",
   "metadata": {},
   "source": [
    "# Open3d"
   ]
  },
  {
   "cell_type": "code",
   "execution_count": null,
   "id": "seventh-generation",
   "metadata": {},
   "outputs": [],
   "source": [
    "import open3d as o3d"
   ]
  },
  {
   "cell_type": "code",
   "execution_count": null,
   "id": "enabling-ivory",
   "metadata": {},
   "outputs": [],
   "source": [
    "im.shape"
   ]
  },
  {
   "cell_type": "code",
   "execution_count": null,
   "id": "coordinated-masters",
   "metadata": {},
   "outputs": [],
   "source": [
    "mc_mesh = o3d.geometry.TriangleMesh()\n",
    "mc_mesh.vertices = o3d.utility.Vector3dVector(comb_test[0])\n",
    "mc_mesh.triangles = o3d.utility.Vector3iVector(comb_test[1])"
   ]
  },
  {
   "cell_type": "code",
   "execution_count": null,
   "id": "together-carnival",
   "metadata": {},
   "outputs": [],
   "source": [
    "np.asarray(mc_mesh.vertices)"
   ]
  },
  {
   "cell_type": "code",
   "execution_count": null,
   "id": "realistic-suicide",
   "metadata": {},
   "outputs": [],
   "source": [
    "px_scaled"
   ]
  },
  {
   "cell_type": "code",
   "execution_count": null,
   "id": "fiscal-newcastle",
   "metadata": {},
   "outputs": [],
   "source": [
    "dots['geneInd'] = dots['geneID'].factorize()[0] % 20\n"
   ]
  },
  {
   "cell_type": "code",
   "execution_count": null,
   "id": "correct-decimal",
   "metadata": {},
   "outputs": [],
   "source": [
    "cm = plt.get_cmap('tab20')\n",
    "dots['geneColor'] = [ cm(c)[:3] for c in dots['geneInd'] ]"
   ]
  },
  {
   "cell_type": "code",
   "execution_count": null,
   "id": "composed-authorization",
   "metadata": {},
   "outputs": [],
   "source": [
    "dots_pcd = o3d.geometry.PointCloud()\n",
    "dots_pcd.points = o3d.utility.Vector3dVector(np.multiply(dots[['z', 'y', 'x']].values-np.array([1, 0, 0]), px_size))\n",
    "dots_pcd.colors = o3d.utility.Vector3dVector(dots['geneColor'].values)"
   ]
  },
  {
   "cell_type": "code",
   "execution_count": null,
   "id": "instrumental-thomson",
   "metadata": {},
   "outputs": [],
   "source": [
    "dots_pcd"
   ]
  },
  {
   "cell_type": "code",
   "execution_count": null,
   "id": "recognized-turtle",
   "metadata": {},
   "outputs": [],
   "source": [
    "dots_pcd.colors"
   ]
  },
  {
   "cell_type": "code",
   "execution_count": null,
   "id": "current-syracuse",
   "metadata": {},
   "outputs": [],
   "source": [
    "o3d.o3.visualization.draw_geometries([mc_mesh, dots_pcd])"
   ]
  },
  {
   "cell_type": "code",
   "execution_count": null,
   "id": "brazilian-passenger",
   "metadata": {},
   "outputs": [],
   "source": [
    "o3d.io.write_triangle_mesh('labeled_16x_tris.obj', mc_mesh)\n",
    "o3d.io.write_point_cloud('dots_colored.pcd', dots_pcd)"
   ]
  },
  {
   "cell_type": "code",
   "execution_count": null,
   "id": "native-reservoir",
   "metadata": {},
   "outputs": [],
   "source": [
    "import json\n",
    "\n",
    "mesh_json = {\n",
    "    'verts': np.asarray(mc_mesh.vertices).tolist(),\n",
    "    'faces': np.asarray(mc_mesh.triangles).tolist()\n",
    "}\n",
    "\n",
    "pcd_json = {\n",
    "    'points': np.asarray(dots_pcd.points).tolist(),\n",
    "    'colors': np.asarray(dots_pcd.colors).tolist(),\n",
    "    'genes': dots['geneID'].values.tolist()\n",
    "}"
   ]
  },
  {
   "cell_type": "code",
   "execution_count": null,
   "id": "liquid-receiver",
   "metadata": {},
   "outputs": [],
   "source": [
    "with open('labeled_16x_mesh.json', 'w') as fp:\n",
    "    json.dump(mesh_json, fp)\n",
    "    \n",
    "with open('dots_colored.json', 'w') as fp:\n",
    "    json.dump(pcd_json, fp)"
   ]
  },
  {
   "cell_type": "code",
   "execution_count": null,
   "id": "genetic-witch",
   "metadata": {},
   "outputs": [],
   "source": [
    "json.load?"
   ]
  },
  {
   "cell_type": "markdown",
   "id": "continental-cuisine",
   "metadata": {},
   "source": [
    "## Plotly with points"
   ]
  },
  {
   "cell_type": "code",
   "execution_count": null,
   "id": "lasting-virginia",
   "metadata": {},
   "outputs": [],
   "source": [
    "pz,py,px = np.asarray(dots_pcd.points).T"
   ]
  },
  {
   "cell_type": "code",
   "execution_count": null,
   "id": "latest-oakland",
   "metadata": {},
   "outputs": [],
   "source": [
    "import plotly.graph_objects as go\n",
    "\n",
    "figdata = [\n",
    "    go.Mesh3d(x=x, y=y, z=z, \n",
    "              i=i, j=j, k=k,\n",
    "        color='lightpink',\n",
    "        opacity=1,\n",
    "        hoverinfo='skip',\n",
    "    ),\n",
    "    go.Scatter3d(x=px, y=py, z=pz,\n",
    "        mode='markers',\n",
    "        marker=dict(\n",
    "            size=1,\n",
    "            color=dots['geneColor'].values,\n",
    "            opacity=1,\n",
    "            symbol='circle',\n",
    "        ),\n",
    "        hoverinfo='skip',\n",
    "    )\n",
    "]\n",
    "\n",
    "figscene = go.layout.Scene(\n",
    "    aspectmode='data'\n",
    ")\n",
    "\n",
    "figlayout= go.Layout(\n",
    "    height=800,\n",
    "    width=800,\n",
    "    margin=dict(b=10, l=10, r=10, t=10),\n",
    "    scene=figscene\n",
    ")\n",
    "\n",
    "\n",
    "fig = go.Figure(data=figdata, layout=figlayout)\n",
    "fig.show(renderer='jupyterlab')"
   ]
  },
  {
   "cell_type": "code",
   "execution_count": null,
   "id": "square-representation",
   "metadata": {},
   "outputs": [],
   "source": [
    "import plotly.io"
   ]
  },
  {
   "cell_type": "code",
   "execution_count": null,
   "id": "seven-comparison",
   "metadata": {},
   "outputs": [],
   "source": [
    "plotly.io.renderers"
   ]
  },
  {
   "cell_type": "code",
   "execution_count": null,
   "id": "every-tuition",
   "metadata": {},
   "outputs": [],
   "source": []
  }
 ],
 "metadata": {
  "kernelspec": {
   "display_name": "Python 3",
   "language": "python",
   "name": "python3"
  },
  "language_info": {
   "codemirror_mode": {
    "name": "ipython",
    "version": 3
   },
   "file_extension": ".py",
   "mimetype": "text/x-python",
   "name": "python",
   "nbconvert_exporter": "python",
   "pygments_lexer": "ipython3",
   "version": "3.7.8"
  }
 },
 "nbformat": 4,
 "nbformat_minor": 5
}
