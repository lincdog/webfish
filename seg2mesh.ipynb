{
 "cells": [
  {
   "cell_type": "code",
   "execution_count": 1,
   "id": "portable-scheme",
   "metadata": {
    "execution": {
     "iopub.execute_input": "2021-03-23T03:56:02.812064Z",
     "iopub.status.busy": "2021-03-23T03:56:02.811842Z",
     "iopub.status.idle": "2021-03-23T03:56:03.455090Z",
     "shell.execute_reply": "2021-03-23T03:56:03.454448Z",
     "shell.execute_reply.started": "2021-03-23T03:56:02.812006Z"
    }
   },
   "outputs": [],
   "source": [
    "import tifffile as tif\n",
    "import scipy.ndimage as ndi\n",
    "import skimage.measure as skim\n",
    "import skimage.feature as skif\n",
    "import skimage.morphology as skimo\n",
    "import skimage.transform as skit\n",
    "import numpy as np\n",
    "import pandas as pd\n",
    "from tqdm import tqdm"
   ]
  },
  {
   "cell_type": "code",
   "execution_count": 5,
   "id": "fifty-diary",
   "metadata": {
    "execution": {
     "iopub.execute_input": "2021-03-23T03:56:35.372518Z",
     "iopub.status.busy": "2021-03-23T03:56:35.372097Z",
     "iopub.status.idle": "2021-03-23T03:56:35.532664Z",
     "shell.execute_reply": "2021-03-23T03:56:35.532087Z",
     "shell.execute_reply.started": "2021-03-23T03:56:35.372472Z"
    }
   },
   "outputs": [],
   "source": [
    "import matplotlib.pyplot as plt"
   ]
  },
  {
   "cell_type": "code",
   "execution_count": null,
   "id": "concerned-contents",
   "metadata": {},
   "outputs": [],
   "source": [
    "im = tif.imread('labeled_img_post.tif')"
   ]
  },
  {
   "cell_type": "code",
   "execution_count": null,
   "id": "varied-feelings",
   "metadata": {},
   "outputs": [],
   "source": [
    "im.shape"
   ]
  },
  {
   "cell_type": "code",
   "execution_count": null,
   "id": "affected-honor",
   "metadata": {},
   "outputs": [],
   "source": [
    "im.max()"
   ]
  },
  {
   "cell_type": "code",
   "execution_count": 8,
   "id": "precise-launch",
   "metadata": {
    "execution": {
     "iopub.execute_input": "2021-03-23T03:58:03.877807Z",
     "iopub.status.busy": "2021-03-23T03:58:03.877472Z",
     "iopub.status.idle": "2021-03-23T03:58:03.881531Z",
     "shell.execute_reply": "2021-03-23T03:58:03.880918Z",
     "shell.execute_reply.started": "2021-03-23T03:58:03.877769Z"
    }
   },
   "outputs": [],
   "source": [
    "px_size = (0.5, 0.11, 0.11)"
   ]
  },
  {
   "cell_type": "code",
   "execution_count": 2,
   "id": "central-timothy",
   "metadata": {
    "execution": {
     "iopub.execute_input": "2021-03-23T03:56:07.724145Z",
     "iopub.status.busy": "2021-03-23T03:56:07.723911Z",
     "iopub.status.idle": "2021-03-23T03:56:07.819705Z",
     "shell.execute_reply": "2021-03-23T03:56:07.819054Z",
     "shell.execute_reply.started": "2021-03-23T03:56:07.724119Z"
    }
   },
   "outputs": [
    {
     "data": {
      "text/html": [
       "<div>\n",
       "<style scoped>\n",
       "    .dataframe tbody tr th:only-of-type {\n",
       "        vertical-align: middle;\n",
       "    }\n",
       "\n",
       "    .dataframe tbody tr th {\n",
       "        vertical-align: top;\n",
       "    }\n",
       "\n",
       "    .dataframe thead th {\n",
       "        text-align: right;\n",
       "    }\n",
       "</style>\n",
       "<table border=\"1\" class=\"dataframe\">\n",
       "  <thead>\n",
       "    <tr style=\"text-align: right;\">\n",
       "      <th></th>\n",
       "      <th>geneID</th>\n",
       "      <th>x</th>\n",
       "      <th>y</th>\n",
       "      <th>z</th>\n",
       "      <th>intensity</th>\n",
       "      <th>seeds</th>\n",
       "    </tr>\n",
       "  </thead>\n",
       "  <tbody>\n",
       "    <tr>\n",
       "      <th>0</th>\n",
       "      <td>Slc34a2</td>\n",
       "      <td>954.455000</td>\n",
       "      <td>1618.563000</td>\n",
       "      <td>11.000000</td>\n",
       "      <td>3512.000000</td>\n",
       "      <td>1</td>\n",
       "    </tr>\n",
       "    <tr>\n",
       "      <th>1</th>\n",
       "      <td>Slc34a2</td>\n",
       "      <td>1878.415667</td>\n",
       "      <td>1292.371333</td>\n",
       "      <td>5.666667</td>\n",
       "      <td>3224.666667</td>\n",
       "      <td>3</td>\n",
       "    </tr>\n",
       "    <tr>\n",
       "      <th>2</th>\n",
       "      <td>Slc34a2</td>\n",
       "      <td>1198.402000</td>\n",
       "      <td>837.543500</td>\n",
       "      <td>5.500000</td>\n",
       "      <td>4900.000000</td>\n",
       "      <td>2</td>\n",
       "    </tr>\n",
       "    <tr>\n",
       "      <th>3</th>\n",
       "      <td>Slc34a2</td>\n",
       "      <td>1320.425500</td>\n",
       "      <td>1358.169250</td>\n",
       "      <td>7.000000</td>\n",
       "      <td>5509.250000</td>\n",
       "      <td>4</td>\n",
       "    </tr>\n",
       "    <tr>\n",
       "      <th>4</th>\n",
       "      <td>Slc34a2</td>\n",
       "      <td>1622.455000</td>\n",
       "      <td>1577.563000</td>\n",
       "      <td>5.000000</td>\n",
       "      <td>3078.000000</td>\n",
       "      <td>1</td>\n",
       "    </tr>\n",
       "  </tbody>\n",
       "</table>\n",
       "</div>"
      ],
      "text/plain": [
       "    geneID            x            y          z    intensity  seeds\n",
       "0  Slc34a2   954.455000  1618.563000  11.000000  3512.000000      1\n",
       "1  Slc34a2  1878.415667  1292.371333   5.666667  3224.666667      3\n",
       "2  Slc34a2  1198.402000   837.543500   5.500000  4900.000000      2\n",
       "3  Slc34a2  1320.425500  1358.169250   7.000000  5509.250000      4\n",
       "4  Slc34a2  1622.455000  1577.563000   5.000000  3078.000000      1"
      ]
     },
     "execution_count": 2,
     "metadata": {},
     "output_type": "execute_result"
    }
   ],
   "source": [
    "dots = pd.read_csv('pre_seg_diff_1_minseeds_3_filtered.csv')\n",
    "dots.head()"
   ]
  },
  {
   "cell_type": "code",
   "execution_count": null,
   "id": "academic-scenario",
   "metadata": {},
   "outputs": [],
   "source": [
    "scale_factor = (1., 1./16, 1./16)\n",
    "\n",
    "px_scaled = tuple(a/b for a, b in zip(px_size, scale_factor))\n",
    "\n",
    "im_small = skit.rescale(im, \n",
    "                       scale_factor, \n",
    "                       order=0, \n",
    "                       mode='reflect', \n",
    "                       cval=0, \n",
    "                       clip=True, \n",
    "                       preserve_range=True, \n",
    "                       anti_aliasing=False, \n",
    "                       anti_aliasing_sigma=None\n",
    "                      ).astype(np.uint8)"
   ]
  },
  {
   "cell_type": "code",
   "execution_count": null,
   "id": "pleased-cabin",
   "metadata": {},
   "outputs": [],
   "source": [
    "px_scaled"
   ]
  },
  {
   "cell_type": "code",
   "execution_count": null,
   "id": "worth-sound",
   "metadata": {},
   "outputs": [],
   "source": [
    "im_small.dtype"
   ]
  },
  {
   "cell_type": "code",
   "execution_count": null,
   "id": "psychological-activation",
   "metadata": {},
   "outputs": [],
   "source": [
    "with tif.TiffWriter('labeled_small.tif') as w:\n",
    "    w.write(im_small)"
   ]
  },
  {
   "cell_type": "markdown",
   "id": "northern-reset",
   "metadata": {},
   "source": [
    "## Triangulate each labeled region separately\n",
    "\n",
    "Use `skimage.measure.marching_cubes` to generate triangulated mesh for each labeled region. \n",
    "\n",
    "Also add the bounding box origin of each region so that when they are combined their relative\n",
    "positions are correct."
   ]
  },
  {
   "cell_type": "code",
   "execution_count": null,
   "id": "organized-samba",
   "metadata": {},
   "outputs": [],
   "source": [
    "region_meshes = []\n",
    "\n",
    "for r in tqdm(skim.regionprops(im_small)):\n",
    "    # compute isosurface on 1 px padded image\n",
    "    tris = skim.marching_cubes(\n",
    "        np.pad(r.image, ((1, 1), (1, 1), (1, 1))),\n",
    "        level=0.5, \n",
    "        spacing=px_scaled,\n",
    "        step_size=1\n",
    "    )\n",
    "    # add corner coordinates to properly position points\n",
    "    new_pts = np.add(tris[0]-np.array(px_scaled), np.multiply(px_scaled, r.bbox[:3]))\n",
    "    \n",
    "    region_meshes.append((new_pts, tris[1])) # skip normals for now\n",
    "    "
   ]
  },
  {
   "cell_type": "code",
   "execution_count": null,
   "id": "marked-twins",
   "metadata": {},
   "outputs": [],
   "source": [
    "(tris[0] - np.array(px_scaled)).min(axis=0)"
   ]
  },
  {
   "cell_type": "code",
   "execution_count": null,
   "id": "rocky-angola",
   "metadata": {},
   "outputs": [],
   "source": [
    "sum([a[0].nbytes+a[1].nbytes for a in region_meshes])/1e6"
   ]
  },
  {
   "cell_type": "code",
   "execution_count": null,
   "id": "peripheral-supervisor",
   "metadata": {},
   "outputs": [],
   "source": [
    "def combine_meshes(mesharr, indices):\n",
    "    \"\"\"\n",
    "    combine_meshes\n",
    "    --------------\n",
    "    take any combo of individual meshes and concatenate them,\n",
    "    adding appropriate offsets to the point indices in the faces array.\n",
    "    \"\"\"\n",
    "    if indices is None:\n",
    "        indices = range(len(mesharr))\n",
    "        \n",
    "    indices = np.atleast_1d(indices)\n",
    "    \n",
    "    comb_pts = []\n",
    "    comb_tris = []\n",
    "    maxpt = 0\n",
    "    \n",
    "    for ind in indices:\n",
    "        pts = mesharr[ind][0]\n",
    "        tris = mesharr[ind][1]\n",
    "        comb_pts.extend(pts)\n",
    "        comb_tris.extend(tris+maxpt)\n",
    "        maxpt += len(pts)\n",
    "        \n",
    "    return np.array(comb_pts), np.array(comb_tris)"
   ]
  },
  {
   "cell_type": "code",
   "execution_count": null,
   "id": "covered-catalyst",
   "metadata": {},
   "outputs": [],
   "source": [
    "comb_test = combine_meshes(region_meshes, None)"
   ]
  },
  {
   "cell_type": "code",
   "execution_count": null,
   "id": "structural-metro",
   "metadata": {},
   "outputs": [],
   "source": [
    "len(comb_test[0]), len(comb_test[1])"
   ]
  },
  {
   "cell_type": "markdown",
   "id": "overhead-program",
   "metadata": {},
   "source": [
    "## Entire field triangulation version"
   ]
  },
  {
   "cell_type": "code",
   "execution_count": null,
   "id": "stupid-ethiopia",
   "metadata": {},
   "outputs": [],
   "source": [
    "region_meshes = []\n",
    "\n",
    "tris = skim.marching_cubes(\n",
    "    np.pad(im_small>0, ((1, 1), (1, 1), (1, 1))),\n",
    "    level=0.5, \n",
    "    spacing=px_scaled,\n",
    "    step_size=1\n",
    ")\n",
    "\n",
    "comb_test = (tris[0], tris[1])"
   ]
  },
  {
   "cell_type": "code",
   "execution_count": null,
   "id": "peaceful-switch",
   "metadata": {},
   "outputs": [],
   "source": [
    "len(comb_test[0]), len(comb_test[1])"
   ]
  },
  {
   "cell_type": "code",
   "execution_count": null,
   "id": "manual-listing",
   "metadata": {},
   "outputs": [],
   "source": [
    "comb_test[0].min(axis=0)"
   ]
  },
  {
   "cell_type": "code",
   "execution_count": null,
   "id": "bright-accessory",
   "metadata": {},
   "outputs": [],
   "source": [
    "z,y,x = comb_test[0].T\n",
    "i,j,k = comb_test[1].T"
   ]
  },
  {
   "cell_type": "markdown",
   "id": "static-finding",
   "metadata": {},
   "source": [
    "## Triangulated mesh"
   ]
  },
  {
   "cell_type": "code",
   "execution_count": null,
   "id": "focused-guidance",
   "metadata": {},
   "outputs": [],
   "source": [
    "import plotly.graph_objects as go\n",
    "\n",
    "fig = go.Figure(data=[go.Mesh3d(x=x, y=y, z=z, \n",
    "                                i=i, j=j, k=k,\n",
    "                                color='lightpink', opacity=1)\n",
    "                     ])\n",
    "fig.show()"
   ]
  },
  {
   "cell_type": "markdown",
   "id": "stopped-extreme",
   "metadata": {},
   "source": [
    "## Delauney of edge pixels?"
   ]
  },
  {
   "cell_type": "markdown",
   "id": "naval-garden",
   "metadata": {},
   "source": [
    "## Decimation with pyvista"
   ]
  },
  {
   "cell_type": "code",
   "execution_count": null,
   "id": "hired-hotel",
   "metadata": {},
   "outputs": [],
   "source": [
    "import pyvista as pv"
   ]
  },
  {
   "cell_type": "code",
   "execution_count": null,
   "id": "seven-chambers",
   "metadata": {},
   "outputs": [],
   "source": [
    "def tris2pyvista(tris):\n",
    "    return np.pad(tris, ((0, 0), (1, 0)), constant_values=3)\n",
    "\n",
    "def pyvista2tris(faces):\n",
    "    assert all(faces[::4]==3), 'At least one face is not a triangle'\n",
    "    \n",
    "    ntris = len(faces)//4\n",
    "    \n",
    "    selector = [False, True, True, True] * ntris\n",
    "    \n",
    "    return np.compress(selector, faces).reshape((ntris,3))\n",
    "    "
   ]
  },
  {
   "cell_type": "code",
   "execution_count": null,
   "id": "color-climb",
   "metadata": {},
   "outputs": [],
   "source": [
    "len(region_meshes)"
   ]
  },
  {
   "cell_type": "code",
   "execution_count": null,
   "id": "accessory-identification",
   "metadata": {},
   "outputs": [],
   "source": [
    "from concurrent.futures import ThreadPoolExecutor, wait, ALL_COMPLETED"
   ]
  },
  {
   "cell_type": "code",
   "execution_count": null,
   "id": "american-oakland",
   "metadata": {},
   "outputs": [],
   "source": [
    "comb_all = combine_meshes(region_meshes, None)"
   ]
  },
  {
   "cell_type": "code",
   "execution_count": null,
   "id": "previous-directive",
   "metadata": {},
   "outputs": [],
   "source": [
    "def decimate_mapper(mesh, target=0.8):\n",
    "    poly = pv.PolyData(mesh[0], tris2pyvista(mesh[1]))\n",
    "    poly_dec = poly.decimate(target)\n",
    "\n",
    "    return (poly_dec.points, pyvista2tris(poly_dec.faces))"
   ]
  },
  {
   "cell_type": "code",
   "execution_count": null,
   "id": "united-adrian",
   "metadata": {},
   "outputs": [],
   "source": [
    "list.pop?"
   ]
  },
  {
   "cell_type": "code",
   "execution_count": null,
   "id": "numerical-house",
   "metadata": {},
   "outputs": [],
   "source": [
    "decimated_meshes = []\n",
    "\n",
    "workers = 8\n",
    "\n",
    "with ThreadPoolExecutor(max_workers=workers) as tpe:\n",
    "    \n",
    "    while len(region_meshes) != 0:\n",
    "        print(f'meshes left = {len(region_meshes)}')\n",
    "        working = []\n",
    "        try:\n",
    "            # take the first `workers` sub-meshes, if available\n",
    "            [ working.append(region_meshes.pop(0)) for _ in range(workers) ]\n",
    "        except:\n",
    "            pass\n",
    "        \n",
    "        wfuts = [ tpe.submit(decimate_mapper, w) for w in working ]\n",
    "        \n",
    "        wait(wfuts)\n",
    "        \n",
    "        decimated_meshes.extend([f.result() for f in wfuts])"
   ]
  },
  {
   "cell_type": "code",
   "execution_count": null,
   "id": "revised-toilet",
   "metadata": {},
   "outputs": [],
   "source": [
    "decimated_comb = combine_meshes(decimated_meshes, None)"
   ]
  },
  {
   "cell_type": "code",
   "execution_count": null,
   "id": "skilled-buffer",
   "metadata": {},
   "outputs": [],
   "source": [
    "len(decimated_comb[0]), len(decimated_comb[1])"
   ]
  },
  {
   "cell_type": "markdown",
   "id": "wanted-integral",
   "metadata": {},
   "source": [
    "## Decimated triangulated mesh"
   ]
  },
  {
   "cell_type": "code",
   "execution_count": null,
   "id": "extended-trauma",
   "metadata": {},
   "outputs": [],
   "source": [
    "import plotly.graph_objects as go\n",
    "\n",
    "z,y,x = decimated_comb[0].T\n",
    "i,j,k = decimated_comb[1].T\n",
    "\n",
    "fig = go.Figure(data=[go.Mesh3d(x=x, y=y, z=z, \n",
    "                                i=i, j=j, k=k,\n",
    "                                color='lightpink', opacity=0.9)])\n",
    "fig.show()"
   ]
  },
  {
   "cell_type": "code",
   "execution_count": null,
   "id": "thirty-desktop",
   "metadata": {},
   "outputs": [],
   "source": []
  },
  {
   "cell_type": "markdown",
   "id": "innovative-athens",
   "metadata": {},
   "source": [
    "# 2D slicewise contours"
   ]
  },
  {
   "cell_type": "code",
   "execution_count": null,
   "id": "played-charm",
   "metadata": {},
   "outputs": [],
   "source": [
    "def im2slicecontours(im, approx=2):\n",
    "    slicecontours = []\n",
    "    \n",
    "    for i, s in enumerate(im):\n",
    "        cont = skim.find_contours(\n",
    "                np.pad(s>0, ((1, 1), (1, 1))),\n",
    "                level=0.5, \n",
    "                fully_connected='high'\n",
    "            )\n",
    "\n",
    "        # add the Z coordinate in front and simplify the contours in one statement\n",
    "        slicecontours.extend([ \n",
    "            np.pad(\n",
    "                skim.approximate_polygon(c, approx),\n",
    "                    ((0, 0), (1, 0)), constant_values=i\n",
    "                )\n",
    "            for c in cont if len(c) > 3 \n",
    "        ])\n",
    "        \n",
    "    return slicecontours\n",
    "    "
   ]
  },
  {
   "cell_type": "code",
   "execution_count": null,
   "id": "freelance-entrepreneur",
   "metadata": {},
   "outputs": [],
   "source": [
    "test = im2slicecontours(im)"
   ]
  },
  {
   "cell_type": "code",
   "execution_count": null,
   "id": "linear-exception",
   "metadata": {},
   "outputs": [],
   "source": [
    "sum([len(s) for s in test])"
   ]
  },
  {
   "cell_type": "code",
   "execution_count": null,
   "id": "assigned-allah",
   "metadata": {},
   "outputs": [],
   "source": [
    "sum([len(a) for a in appcont])/sum([len(c) for c in cont])"
   ]
  },
  {
   "cell_type": "code",
   "execution_count": null,
   "id": "spanish-vacation",
   "metadata": {},
   "outputs": [],
   "source": [
    "fig, ax = plt.subplots(figsize=(10,10))\n",
    "plt.imshow(im[0]>0)\n",
    "for c in appcont:\n",
    "    plt.plot(c.T[1], c.T[0])\n",
    "    \n",
    "plt.show()"
   ]
  },
  {
   "cell_type": "code",
   "execution_count": null,
   "id": "absent-orange",
   "metadata": {},
   "outputs": [],
   "source": [
    "import plotly.express as px\n",
    "\n",
    "z,y,x = test[0].T\n",
    "\n",
    "fig = px.line_3d(x=x, y=y, z=z)\n",
    "fig.show()"
   ]
  },
  {
   "cell_type": "code",
   "execution_count": null,
   "id": "viral-zealand",
   "metadata": {},
   "outputs": [],
   "source": [
    "import plotly.graph_objects as go\n",
    "\n",
    "\n",
    "fig = go.Figure(data=[\n",
    "    go.Scatter3d(x=c.T[2], y=c.T[1], z=c.T[0],\n",
    "                marker=dict(size=0),\n",
    "                line=dict(\n",
    "                color='darkblue',\n",
    "                width=0.5))\n",
    "    for c in test[:3]\n",
    "])\n",
    "fig.show()"
   ]
  },
  {
   "cell_type": "code",
   "execution_count": null,
   "id": "legendary-cleaner",
   "metadata": {},
   "outputs": [],
   "source": [
    "test_concat = np.vstack(test)"
   ]
  },
  {
   "cell_type": "code",
   "execution_count": null,
   "id": "super-chess",
   "metadata": {},
   "outputs": [],
   "source": [
    "test_concat.shape"
   ]
  },
  {
   "cell_type": "code",
   "execution_count": null,
   "id": "binding-plymouth",
   "metadata": {},
   "outputs": [],
   "source": [
    "import plotly.graph_objects as go\n",
    "\n",
    "z,y,x = test_concat.T\n",
    "\n",
    "fig = go.Figure(data=[go.Mesh3d(x=x, y=y, z=z, \n",
    "                                color='lightpink', opacity=0.50)])\n",
    "fig.show()"
   ]
  },
  {
   "cell_type": "markdown",
   "id": "theoretical-homeless",
   "metadata": {},
   "source": [
    "# Open3d"
   ]
  },
  {
   "cell_type": "code",
   "execution_count": null,
   "id": "rubber-cylinder",
   "metadata": {},
   "outputs": [],
   "source": [
    "import open3d as o3d"
   ]
  },
  {
   "cell_type": "code",
   "execution_count": null,
   "id": "sudden-cleaners",
   "metadata": {},
   "outputs": [],
   "source": [
    "im.shape"
   ]
  },
  {
   "cell_type": "code",
   "execution_count": null,
   "id": "micro-customs",
   "metadata": {},
   "outputs": [],
   "source": [
    "mc_mesh = o3d.geometry.TriangleMesh()\n",
    "mc_mesh.vertices = o3d.utility.Vector3dVector(comb_test[0])\n",
    "mc_mesh.triangles = o3d.utility.Vector3iVector(comb_test[1])"
   ]
  },
  {
   "cell_type": "code",
   "execution_count": null,
   "id": "sitting-lemon",
   "metadata": {},
   "outputs": [],
   "source": [
    "np.asarray(mc_mesh.vertices)"
   ]
  },
  {
   "cell_type": "code",
   "execution_count": null,
   "id": "bridal-matter",
   "metadata": {},
   "outputs": [],
   "source": [
    "px_scaled"
   ]
  },
  {
   "cell_type": "code",
   "execution_count": 3,
   "id": "promising-suspect",
   "metadata": {
    "execution": {
     "iopub.execute_input": "2021-03-23T03:56:27.317630Z",
     "iopub.status.busy": "2021-03-23T03:56:27.317423Z",
     "iopub.status.idle": "2021-03-23T03:56:27.330926Z",
     "shell.execute_reply": "2021-03-23T03:56:27.330400Z",
     "shell.execute_reply.started": "2021-03-23T03:56:27.317607Z"
    }
   },
   "outputs": [],
   "source": [
    "dots['geneInd'] = dots['geneID'].factorize()[0] % 20\n"
   ]
  },
  {
   "cell_type": "code",
   "execution_count": 40,
   "id": "dynamic-component",
   "metadata": {
    "execution": {
     "iopub.execute_input": "2021-03-23T04:07:59.593044Z",
     "iopub.status.busy": "2021-03-23T04:07:59.592858Z",
     "iopub.status.idle": "2021-03-23T04:07:59.595824Z",
     "shell.execute_reply": "2021-03-23T04:07:59.595237Z",
     "shell.execute_reply.started": "2021-03-23T04:07:59.593024Z"
    }
   },
   "outputs": [],
   "source": [
    "def cmap2hex(cmap):\n",
    "    return '#{:02X}{:02X}{:02X}'.format(cmap[0], cmap[1], cmap[2])"
   ]
  },
  {
   "cell_type": "code",
   "execution_count": 41,
   "id": "similar-detective",
   "metadata": {
    "execution": {
     "iopub.execute_input": "2021-03-23T04:07:59.739913Z",
     "iopub.status.busy": "2021-03-23T04:07:59.739633Z",
     "iopub.status.idle": "2021-03-23T04:07:59.745689Z",
     "shell.execute_reply": "2021-03-23T04:07:59.745014Z",
     "shell.execute_reply.started": "2021-03-23T04:07:59.739880Z"
    }
   },
   "outputs": [
    {
     "data": {
      "text/plain": [
       "'#000102'"
      ]
     },
     "execution_count": 41,
     "metadata": {},
     "output_type": "execute_result"
    }
   ],
   "source": [
    "cmap2hex((0, 1, 2))"
   ]
  },
  {
   "cell_type": "code",
   "execution_count": 42,
   "id": "micro-copyright",
   "metadata": {
    "execution": {
     "iopub.execute_input": "2021-03-23T04:08:03.378708Z",
     "iopub.status.busy": "2021-03-23T04:08:03.378520Z",
     "iopub.status.idle": "2021-03-23T04:08:05.272763Z",
     "shell.execute_reply": "2021-03-23T04:08:05.272092Z",
     "shell.execute_reply.started": "2021-03-23T04:08:03.378688Z"
    }
   },
   "outputs": [],
   "source": [
    "cm = plt.get_cmap('tab20')\n",
    "dots['geneColor'] = [ cmap2hex(cm(c, bytes=True)) for c in dots['geneInd'] ]"
   ]
  },
  {
   "cell_type": "code",
   "execution_count": 9,
   "id": "every-photography",
   "metadata": {
    "execution": {
     "iopub.execute_input": "2021-03-23T03:58:09.478861Z",
     "iopub.status.busy": "2021-03-23T03:58:09.478674Z",
     "iopub.status.idle": "2021-03-23T03:58:09.488975Z",
     "shell.execute_reply": "2021-03-23T03:58:09.488412Z",
     "shell.execute_reply.started": "2021-03-23T03:58:09.478841Z"
    }
   },
   "outputs": [],
   "source": [
    "dots[['z', 'y', 'x']] = (dots[['z', 'y', 'x']] - np.array([1, 0, 0])) * np.array(px_size)"
   ]
  },
  {
   "cell_type": "code",
   "execution_count": 43,
   "id": "strategic-design",
   "metadata": {
    "execution": {
     "iopub.execute_input": "2021-03-23T04:08:10.458222Z",
     "iopub.status.busy": "2021-03-23T04:08:10.458037Z",
     "iopub.status.idle": "2021-03-23T04:08:11.059076Z",
     "shell.execute_reply": "2021-03-23T04:08:11.058304Z",
     "shell.execute_reply.started": "2021-03-23T04:08:10.458202Z"
    }
   },
   "outputs": [],
   "source": [
    "dots.to_csv('data/dots_um_with_colors.csv', index=False)"
   ]
  },
  {
   "cell_type": "code",
   "execution_count": 33,
   "id": "fluid-project",
   "metadata": {
    "execution": {
     "iopub.execute_input": "2021-03-23T04:06:26.397723Z",
     "iopub.status.busy": "2021-03-23T04:06:26.397538Z",
     "iopub.status.idle": "2021-03-23T04:06:26.407838Z",
     "shell.execute_reply": "2021-03-23T04:06:26.407000Z",
     "shell.execute_reply.started": "2021-03-23T04:06:26.397703Z"
    }
   },
   "outputs": [
    {
     "data": {
      "text/html": [
       "<div>\n",
       "<style scoped>\n",
       "    .dataframe tbody tr th:only-of-type {\n",
       "        vertical-align: middle;\n",
       "    }\n",
       "\n",
       "    .dataframe tbody tr th {\n",
       "        vertical-align: top;\n",
       "    }\n",
       "\n",
       "    .dataframe thead th {\n",
       "        text-align: right;\n",
       "    }\n",
       "</style>\n",
       "<table border=\"1\" class=\"dataframe\">\n",
       "  <thead>\n",
       "    <tr style=\"text-align: right;\">\n",
       "      <th></th>\n",
       "      <th>geneID</th>\n",
       "      <th>x</th>\n",
       "      <th>y</th>\n",
       "      <th>z</th>\n",
       "      <th>intensity</th>\n",
       "      <th>seeds</th>\n",
       "      <th>geneInd</th>\n",
       "      <th>geneColor</th>\n",
       "    </tr>\n",
       "  </thead>\n",
       "  <tbody>\n",
       "    <tr>\n",
       "      <th>0</th>\n",
       "      <td>Slc34a2</td>\n",
       "      <td>104.990050</td>\n",
       "      <td>178.041930</td>\n",
       "      <td>5.000000</td>\n",
       "      <td>3512.000000</td>\n",
       "      <td>1</td>\n",
       "      <td>0</td>\n",
       "      <td>#1F77B4</td>\n",
       "    </tr>\n",
       "    <tr>\n",
       "      <th>1</th>\n",
       "      <td>Slc34a2</td>\n",
       "      <td>206.625723</td>\n",
       "      <td>142.160847</td>\n",
       "      <td>2.333333</td>\n",
       "      <td>3224.666667</td>\n",
       "      <td>3</td>\n",
       "      <td>0</td>\n",
       "      <td>#1F77B4</td>\n",
       "    </tr>\n",
       "    <tr>\n",
       "      <th>2</th>\n",
       "      <td>Slc34a2</td>\n",
       "      <td>131.824220</td>\n",
       "      <td>92.129785</td>\n",
       "      <td>2.250000</td>\n",
       "      <td>4900.000000</td>\n",
       "      <td>2</td>\n",
       "      <td>0</td>\n",
       "      <td>#1F77B4</td>\n",
       "    </tr>\n",
       "    <tr>\n",
       "      <th>3</th>\n",
       "      <td>Slc34a2</td>\n",
       "      <td>145.246805</td>\n",
       "      <td>149.398618</td>\n",
       "      <td>3.000000</td>\n",
       "      <td>5509.250000</td>\n",
       "      <td>4</td>\n",
       "      <td>0</td>\n",
       "      <td>#1F77B4</td>\n",
       "    </tr>\n",
       "    <tr>\n",
       "      <th>4</th>\n",
       "      <td>Slc34a2</td>\n",
       "      <td>178.470050</td>\n",
       "      <td>173.531930</td>\n",
       "      <td>2.000000</td>\n",
       "      <td>3078.000000</td>\n",
       "      <td>1</td>\n",
       "      <td>0</td>\n",
       "      <td>#1F77B4</td>\n",
       "    </tr>\n",
       "  </tbody>\n",
       "</table>\n",
       "</div>"
      ],
      "text/plain": [
       "    geneID           x           y         z    intensity  seeds  geneInd  \\\n",
       "0  Slc34a2  104.990050  178.041930  5.000000  3512.000000      1        0   \n",
       "1  Slc34a2  206.625723  142.160847  2.333333  3224.666667      3        0   \n",
       "2  Slc34a2  131.824220   92.129785  2.250000  4900.000000      2        0   \n",
       "3  Slc34a2  145.246805  149.398618  3.000000  5509.250000      4        0   \n",
       "4  Slc34a2  178.470050  173.531930  2.000000  3078.000000      1        0   \n",
       "\n",
       "  geneColor  \n",
       "0   #1F77B4  \n",
       "1   #1F77B4  \n",
       "2   #1F77B4  \n",
       "3   #1F77B4  \n",
       "4   #1F77B4  "
      ]
     },
     "execution_count": 33,
     "metadata": {},
     "output_type": "execute_result"
    }
   ],
   "source": [
    "dots.head()"
   ]
  },
  {
   "cell_type": "code",
   "execution_count": 57,
   "id": "driven-catalyst",
   "metadata": {
    "execution": {
     "iopub.execute_input": "2021-03-23T05:33:36.081390Z",
     "iopub.status.busy": "2021-03-23T05:33:36.081208Z",
     "iopub.status.idle": "2021-03-23T05:33:36.172328Z",
     "shell.execute_reply": "2021-03-23T05:33:36.171872Z",
     "shell.execute_reply.started": "2021-03-23T05:33:36.081371Z"
    }
   },
   "outputs": [
    {
     "data": {
      "text/plain": [
       "(array(['2310015A10Rik', '4921507P07Rik', '4930579F01Rik', ..., 'fake995',\n",
       "        'fake997', 'fake998'], dtype=object),\n",
       " array([51, 26,  4, ...,  7,  5,  4]))"
      ]
     },
     "execution_count": 57,
     "metadata": {},
     "output_type": "execute_result"
    }
   ],
   "source": [
    "np.unique(dots['geneID'], return_counts=True)"
   ]
  },
  {
   "cell_type": "code",
   "execution_count": 58,
   "id": "according-psychiatry",
   "metadata": {
    "execution": {
     "iopub.execute_input": "2021-03-23T05:34:35.376198Z",
     "iopub.status.busy": "2021-03-23T05:34:35.375841Z",
     "iopub.status.idle": "2021-03-23T05:34:35.382661Z",
     "shell.execute_reply": "2021-03-23T05:34:35.381900Z",
     "shell.execute_reply.started": "2021-03-23T05:34:35.376153Z"
    }
   },
   "outputs": [
    {
     "data": {
      "text/plain": [
       "\u001b[0;31mSignature:\u001b[0m\n",
       "\u001b[0mnp\u001b[0m\u001b[0;34m.\u001b[0m\u001b[0munique\u001b[0m\u001b[0;34m(\u001b[0m\u001b[0;34m\u001b[0m\n",
       "\u001b[0;34m\u001b[0m    \u001b[0mar\u001b[0m\u001b[0;34m,\u001b[0m\u001b[0;34m\u001b[0m\n",
       "\u001b[0;34m\u001b[0m    \u001b[0mreturn_index\u001b[0m\u001b[0;34m=\u001b[0m\u001b[0;32mFalse\u001b[0m\u001b[0;34m,\u001b[0m\u001b[0;34m\u001b[0m\n",
       "\u001b[0;34m\u001b[0m    \u001b[0mreturn_inverse\u001b[0m\u001b[0;34m=\u001b[0m\u001b[0;32mFalse\u001b[0m\u001b[0;34m,\u001b[0m\u001b[0;34m\u001b[0m\n",
       "\u001b[0;34m\u001b[0m    \u001b[0mreturn_counts\u001b[0m\u001b[0;34m=\u001b[0m\u001b[0;32mFalse\u001b[0m\u001b[0;34m,\u001b[0m\u001b[0;34m\u001b[0m\n",
       "\u001b[0;34m\u001b[0m    \u001b[0maxis\u001b[0m\u001b[0;34m=\u001b[0m\u001b[0;32mNone\u001b[0m\u001b[0;34m,\u001b[0m\u001b[0;34m\u001b[0m\n",
       "\u001b[0;34m\u001b[0m\u001b[0;34m)\u001b[0m\u001b[0;34m\u001b[0m\u001b[0;34m\u001b[0m\u001b[0m\n",
       "\u001b[0;31mDocstring:\u001b[0m\n",
       "Find the unique elements of an array.\n",
       "\n",
       "Returns the sorted unique elements of an array. There are three optional\n",
       "outputs in addition to the unique elements:\n",
       "\n",
       "* the indices of the input array that give the unique values\n",
       "* the indices of the unique array that reconstruct the input array\n",
       "* the number of times each unique value comes up in the input array\n",
       "\n",
       "Parameters\n",
       "----------\n",
       "ar : array_like\n",
       "    Input array. Unless `axis` is specified, this will be flattened if it\n",
       "    is not already 1-D.\n",
       "return_index : bool, optional\n",
       "    If True, also return the indices of `ar` (along the specified axis,\n",
       "    if provided, or in the flattened array) that result in the unique array.\n",
       "return_inverse : bool, optional\n",
       "    If True, also return the indices of the unique array (for the specified\n",
       "    axis, if provided) that can be used to reconstruct `ar`.\n",
       "return_counts : bool, optional\n",
       "    If True, also return the number of times each unique item appears\n",
       "    in `ar`.\n",
       "\n",
       "    .. versionadded:: 1.9.0\n",
       "\n",
       "axis : int or None, optional\n",
       "    The axis to operate on. If None, `ar` will be flattened. If an integer,\n",
       "    the subarrays indexed by the given axis will be flattened and treated\n",
       "    as the elements of a 1-D array with the dimension of the given axis,\n",
       "    see the notes for more details.  Object arrays or structured arrays\n",
       "    that contain objects are not supported if the `axis` kwarg is used. The\n",
       "    default is None.\n",
       "\n",
       "    .. versionadded:: 1.13.0\n",
       "\n",
       "Returns\n",
       "-------\n",
       "unique : ndarray\n",
       "    The sorted unique values.\n",
       "unique_indices : ndarray, optional\n",
       "    The indices of the first occurrences of the unique values in the\n",
       "    original array. Only provided if `return_index` is True.\n",
       "unique_inverse : ndarray, optional\n",
       "    The indices to reconstruct the original array from the\n",
       "    unique array. Only provided if `return_inverse` is True.\n",
       "unique_counts : ndarray, optional\n",
       "    The number of times each of the unique values comes up in the\n",
       "    original array. Only provided if `return_counts` is True.\n",
       "\n",
       "    .. versionadded:: 1.9.0\n",
       "\n",
       "See Also\n",
       "--------\n",
       "numpy.lib.arraysetops : Module with a number of other functions for\n",
       "                        performing set operations on arrays.\n",
       "\n",
       "Notes\n",
       "-----\n",
       "When an axis is specified the subarrays indexed by the axis are sorted.\n",
       "This is done by making the specified axis the first dimension of the array\n",
       "(move the axis to the first dimension to keep the order of the other axes)\n",
       "and then flattening the subarrays in C order. The flattened subarrays are\n",
       "then viewed as a structured type with each element given a label, with the\n",
       "effect that we end up with a 1-D array of structured types that can be\n",
       "treated in the same way as any other 1-D array. The result is that the\n",
       "flattened subarrays are sorted in lexicographic order starting with the\n",
       "first element.\n",
       "\n",
       "Examples\n",
       "--------\n",
       ">>> np.unique([1, 1, 2, 2, 3, 3])\n",
       "array([1, 2, 3])\n",
       ">>> a = np.array([[1, 1], [2, 3]])\n",
       ">>> np.unique(a)\n",
       "array([1, 2, 3])\n",
       "\n",
       "Return the unique rows of a 2D array\n",
       "\n",
       ">>> a = np.array([[1, 0, 0], [1, 0, 0], [2, 3, 4]])\n",
       ">>> np.unique(a, axis=0)\n",
       "array([[1, 0, 0], [2, 3, 4]])\n",
       "\n",
       "Return the indices of the original array that give the unique values:\n",
       "\n",
       ">>> a = np.array(['a', 'b', 'b', 'c', 'a'])\n",
       ">>> u, indices = np.unique(a, return_index=True)\n",
       ">>> u\n",
       "array(['a', 'b', 'c'], dtype='<U1')\n",
       ">>> indices\n",
       "array([0, 1, 3])\n",
       ">>> a[indices]\n",
       "array(['a', 'b', 'c'], dtype='<U1')\n",
       "\n",
       "Reconstruct the input array from the unique values:\n",
       "\n",
       ">>> a = np.array([1, 2, 6, 4, 2, 3, 2])\n",
       ">>> u, indices = np.unique(a, return_inverse=True)\n",
       ">>> u\n",
       "array([1, 2, 3, 4, 6])\n",
       ">>> indices\n",
       "array([0, 1, 4, 3, 1, 2, 1])\n",
       ">>> u[indices]\n",
       "array([1, 2, 6, 4, 2, 3, 2])\n",
       "\u001b[0;31mFile:\u001b[0m      ~/anaconda3/envs/geo_env/lib/python3.7/site-packages/numpy/lib/arraysetops.py\n",
       "\u001b[0;31mType:\u001b[0m      function\n"
      ]
     },
     "metadata": {},
     "output_type": "display_data"
    }
   ],
   "source": [
    "np.unique?"
   ]
  },
  {
   "cell_type": "code",
   "execution_count": null,
   "id": "serial-authentication",
   "metadata": {},
   "outputs": [],
   "source": [
    "dots['geneID'].unique"
   ]
  },
  {
   "cell_type": "code",
   "execution_count": null,
   "id": "interracial-travel",
   "metadata": {},
   "outputs": [],
   "source": [
    "dots_pcd = o3d.geometry.PointCloud()\n",
    "dots_pcd.points = o3d.utility.Vector3dVector(np.multiply(dots[['z', 'y', 'x']].values-np.array([1, 0, 0]), px_size))\n",
    "dots_pcd.colors = o3d.utility.Vector3dVector(dots['geneColor'].values)"
   ]
  },
  {
   "cell_type": "code",
   "execution_count": null,
   "id": "generic-packing",
   "metadata": {},
   "outputs": [],
   "source": [
    "dots_pcd"
   ]
  },
  {
   "cell_type": "code",
   "execution_count": null,
   "id": "opposite-marking",
   "metadata": {},
   "outputs": [],
   "source": [
    "dots_pcd.colors"
   ]
  },
  {
   "cell_type": "code",
   "execution_count": null,
   "id": "medical-donna",
   "metadata": {},
   "outputs": [],
   "source": [
    "o3d.o3.visualization.draw_geometries([mc_mesh, dots_pcd])"
   ]
  },
  {
   "cell_type": "code",
   "execution_count": null,
   "id": "sacred-somalia",
   "metadata": {},
   "outputs": [],
   "source": [
    "o3d.io.write_triangle_mesh('labeled_16x_tris.obj', mc_mesh)\n",
    "o3d.io.write_point_cloud('dots_colored.pcd', dots_pcd)"
   ]
  },
  {
   "cell_type": "code",
   "execution_count": null,
   "id": "reasonable-relay",
   "metadata": {},
   "outputs": [],
   "source": [
    "import json\n",
    "\n",
    "mesh_json = {\n",
    "    'verts': np.asarray(mc_mesh.vertices).tolist(),\n",
    "    'faces': np.asarray(mc_mesh.triangles).tolist()\n",
    "}\n",
    "\n",
    "pcd_json = {\n",
    "    'points': np.asarray(dots_pcd.points).tolist(),\n",
    "    'colors': np.asarray(dots_pcd.colors).tolist(),\n",
    "    'genes': dots['geneID'].values.tolist()\n",
    "}"
   ]
  },
  {
   "cell_type": "code",
   "execution_count": null,
   "id": "polish-respect",
   "metadata": {},
   "outputs": [],
   "source": [
    "with open('labeled_16x_mesh.json', 'w') as fp:\n",
    "    json.dump(mesh_json, fp)\n",
    "    \n",
    "with open('dots_colored.json', 'w') as fp:\n",
    "    json.dump(pcd_json, fp)"
   ]
  },
  {
   "cell_type": "code",
   "execution_count": null,
   "id": "regulation-sweet",
   "metadata": {},
   "outputs": [],
   "source": [
    "json.load?"
   ]
  },
  {
   "cell_type": "markdown",
   "id": "pending-killing",
   "metadata": {},
   "source": [
    "## Plotly with points"
   ]
  },
  {
   "cell_type": "code",
   "execution_count": null,
   "id": "portable-least",
   "metadata": {},
   "outputs": [],
   "source": [
    "pz,py,px = np.asarray(dots_pcd.points).T"
   ]
  },
  {
   "cell_type": "code",
   "execution_count": null,
   "id": "respected-september",
   "metadata": {},
   "outputs": [],
   "source": [
    "import plotly.graph_objects as go\n",
    "\n",
    "figdata = [\n",
    "    go.Mesh3d(x=x, y=y, z=z, \n",
    "              i=i, j=j, k=k,\n",
    "        color='lightpink',\n",
    "        opacity=1,\n",
    "        hoverinfo='skip',\n",
    "    ),\n",
    "    go.Scatter3d(x=px, y=py, z=pz,\n",
    "        mode='markers',\n",
    "        marker=dict(\n",
    "            size=1,\n",
    "            color=dots['geneColor'].values,\n",
    "            opacity=1,\n",
    "            symbol='circle',\n",
    "        ),\n",
    "        hoverinfo='skip',\n",
    "    )\n",
    "]\n",
    "\n",
    "figscene = go.layout.Scene(\n",
    "    aspectmode='data'\n",
    ")\n",
    "\n",
    "figlayout= go.Layout(\n",
    "    height=800,\n",
    "    width=800,\n",
    "    margin=dict(b=10, l=10, r=10, t=10),\n",
    "    scene=figscene\n",
    ")\n",
    "\n",
    "\n",
    "fig = go.Figure(data=figdata, layout=figlayout)\n",
    "fig.show(renderer='jupyterlab')"
   ]
  },
  {
   "cell_type": "code",
   "execution_count": null,
   "id": "latter-panel",
   "metadata": {},
   "outputs": [],
   "source": [
    "import plotly.io"
   ]
  },
  {
   "cell_type": "code",
   "execution_count": null,
   "id": "radio-people",
   "metadata": {},
   "outputs": [],
   "source": [
    "plotly.io.renderers"
   ]
  },
  {
   "cell_type": "code",
   "execution_count": null,
   "id": "living-speech",
   "metadata": {},
   "outputs": [],
   "source": []
  }
 ],
 "metadata": {
  "kernelspec": {
   "display_name": "Python 3",
   "language": "python",
   "name": "python3"
  },
  "language_info": {
   "codemirror_mode": {
    "name": "ipython",
    "version": 3
   },
   "file_extension": ".py",
   "mimetype": "text/x-python",
   "name": "python",
   "nbconvert_exporter": "python",
   "pygments_lexer": "ipython3",
   "version": "3.7.8"
  }
 },
 "nbformat": 4,
 "nbformat_minor": 5
}
