{
 "cells": [
  {
   "cell_type": "code",
   "execution_count": 1,
   "id": "native-utilization",
   "metadata": {
    "execution": {
     "iopub.execute_input": "2021-04-02T18:21:25.478052Z",
     "iopub.status.busy": "2021-04-02T18:21:25.477814Z",
     "iopub.status.idle": "2021-04-02T18:21:25.846865Z",
     "shell.execute_reply": "2021-04-02T18:21:25.846249Z",
     "shell.execute_reply.started": "2021-04-02T18:21:25.477987Z"
    }
   },
   "outputs": [],
   "source": [
    "from ec2_startup import Webfish, EasyEC2, EasySSH\n",
    "import pandas as pd"
   ]
  },
  {
   "cell_type": "code",
   "execution_count": 2,
   "id": "needed-computer",
   "metadata": {
    "execution": {
     "iopub.execute_input": "2021-04-02T18:21:26.247422Z",
     "iopub.status.busy": "2021-04-02T18:21:26.247166Z",
     "iopub.status.idle": "2021-04-02T18:21:26.759219Z",
     "shell.execute_reply": "2021-04-02T18:21:26.756765Z",
     "shell.execute_reply.started": "2021-04-02T18:21:26.247394Z"
    }
   },
   "outputs": [],
   "source": [
    "ec2 = EasyEC2()"
   ]
  },
  {
   "cell_type": "code",
   "execution_count": 3,
   "id": "affiliated-thread",
   "metadata": {
    "execution": {
     "iopub.execute_input": "2021-04-02T18:21:27.084259Z",
     "iopub.status.busy": "2021-04-02T18:21:27.084068Z",
     "iopub.status.idle": "2021-04-02T18:21:27.099664Z",
     "shell.execute_reply": "2021-04-02T18:21:27.099067Z",
     "shell.execute_reply.started": "2021-04-02T18:21:27.084238Z"
    }
   },
   "outputs": [
    {
     "data": {
      "text/html": [
       "<div>\n",
       "<style scoped>\n",
       "    .dataframe tbody tr th:only-of-type {\n",
       "        vertical-align: middle;\n",
       "    }\n",
       "\n",
       "    .dataframe tbody tr th {\n",
       "        vertical-align: top;\n",
       "    }\n",
       "\n",
       "    .dataframe thead th {\n",
       "        text-align: right;\n",
       "    }\n",
       "</style>\n",
       "<table border=\"1\" class=\"dataframe\">\n",
       "  <thead>\n",
       "    <tr style=\"text-align: right;\">\n",
       "      <th></th>\n",
       "      <th>Index</th>\n",
       "      <th>Reservation</th>\n",
       "      <th>ID</th>\n",
       "      <th>Public IP</th>\n",
       "      <th>Public DNS</th>\n",
       "      <th>Type</th>\n",
       "      <th>Launch template</th>\n",
       "      <th>Status</th>\n",
       "    </tr>\n",
       "  </thead>\n",
       "  <tbody>\n",
       "    <tr>\n",
       "      <th>0</th>\n",
       "      <td>0</td>\n",
       "      <td>0</td>\n",
       "      <td>i-06bd5f9b2114de937</td>\n",
       "      <td></td>\n",
       "      <td></td>\n",
       "      <td>t3.nano</td>\n",
       "      <td>NaN</td>\n",
       "      <td>terminated</td>\n",
       "    </tr>\n",
       "  </tbody>\n",
       "</table>\n",
       "</div>"
      ],
      "text/plain": [
       "   Index  Reservation                   ID Public IP Public DNS     Type  \\\n",
       "0      0            0  i-06bd5f9b2114de937                       t3.nano   \n",
       "\n",
       "  Launch template      Status  \n",
       "0             NaN  terminated  "
      ]
     },
     "execution_count": 3,
     "metadata": {},
     "output_type": "execute_result"
    }
   ],
   "source": [
    "ec2.instances"
   ]
  },
  {
   "cell_type": "code",
   "execution_count": 3,
   "id": "clear-aside",
   "metadata": {
    "execution": {
     "iopub.execute_input": "2021-04-02T16:39:52.361684Z",
     "iopub.status.busy": "2021-04-02T16:39:52.361256Z",
     "iopub.status.idle": "2021-04-02T16:39:54.658561Z",
     "shell.execute_reply": "2021-04-02T16:39:54.657852Z",
     "shell.execute_reply.started": "2021-04-02T16:39:52.361633Z"
    }
   },
   "outputs": [],
   "source": [
    "ec2.launch_instances(1, user_data='startup_userdata')"
   ]
  },
  {
   "cell_type": "code",
   "execution_count": 4,
   "id": "engaged-camcorder",
   "metadata": {
    "execution": {
     "iopub.execute_input": "2021-04-02T18:21:30.170978Z",
     "iopub.status.busy": "2021-04-02T18:21:30.170755Z",
     "iopub.status.idle": "2021-04-02T18:21:30.366832Z",
     "shell.execute_reply": "2021-04-02T18:21:30.366228Z",
     "shell.execute_reply.started": "2021-04-02T18:21:30.170954Z"
    }
   },
   "outputs": [
    {
     "data": {
      "text/html": [
       "<div>\n",
       "<style scoped>\n",
       "    .dataframe tbody tr th:only-of-type {\n",
       "        vertical-align: middle;\n",
       "    }\n",
       "\n",
       "    .dataframe tbody tr th {\n",
       "        vertical-align: top;\n",
       "    }\n",
       "\n",
       "    .dataframe thead th {\n",
       "        text-align: right;\n",
       "    }\n",
       "</style>\n",
       "<table border=\"1\" class=\"dataframe\">\n",
       "  <thead>\n",
       "    <tr style=\"text-align: right;\">\n",
       "      <th></th>\n",
       "      <th>Index</th>\n",
       "      <th>Reservation</th>\n",
       "      <th>ID</th>\n",
       "      <th>Public IP</th>\n",
       "      <th>Public DNS</th>\n",
       "      <th>Type</th>\n",
       "      <th>Launch template</th>\n",
       "      <th>Status</th>\n",
       "    </tr>\n",
       "  </thead>\n",
       "  <tbody>\n",
       "    <tr>\n",
       "      <th>0</th>\n",
       "      <td>1</td>\n",
       "      <td>1</td>\n",
       "      <td>i-06bd5f9b2114de937</td>\n",
       "      <td></td>\n",
       "      <td></td>\n",
       "      <td>t3.nano</td>\n",
       "      <td>NaN</td>\n",
       "      <td>terminated</td>\n",
       "    </tr>\n",
       "  </tbody>\n",
       "</table>\n",
       "</div>"
      ],
      "text/plain": [
       "   Index  Reservation                   ID Public IP Public DNS     Type  \\\n",
       "0      1            1  i-06bd5f9b2114de937                       t3.nano   \n",
       "\n",
       "  Launch template      Status  \n",
       "0             NaN  terminated  "
      ]
     },
     "execution_count": 4,
     "metadata": {},
     "output_type": "execute_result"
    }
   ],
   "source": [
    "ec2.refresh()"
   ]
  },
  {
   "cell_type": "code",
   "execution_count": 4,
   "id": "frequent-magazine",
   "metadata": {
    "execution": {
     "iopub.execute_input": "2021-04-02T16:57:05.739770Z",
     "iopub.status.busy": "2021-04-02T16:57:05.739300Z",
     "iopub.status.idle": "2021-04-02T16:57:05.743629Z",
     "shell.execute_reply": "2021-04-02T16:57:05.742990Z",
     "shell.execute_reply.started": "2021-04-02T16:57:05.739743Z"
    }
   },
   "outputs": [],
   "source": [
    "ip = ec2.instances.iloc[0]['Public IP']"
   ]
  },
  {
   "cell_type": "code",
   "execution_count": 5,
   "id": "middle-grenada",
   "metadata": {
    "execution": {
     "iopub.execute_input": "2021-04-02T16:57:06.252081Z",
     "iopub.status.busy": "2021-04-02T16:57:06.251100Z",
     "iopub.status.idle": "2021-04-02T16:57:06.256959Z",
     "shell.execute_reply": "2021-04-02T16:57:06.256285Z",
     "shell.execute_reply.started": "2021-04-02T16:57:06.252023Z"
    }
   },
   "outputs": [],
   "source": [
    "wf = Webfish(\n",
    "    ip,\n",
    "    keyfile='/home/lincoln/CaiLab/cloud/aws/.keys/lincoln-ec2-key-1_private.pem',\n",
    "    credfile='/home/lincoln/CaiLab/cloud/wasabi/ec2-readcredentials'\n",
    ")"
   ]
  },
  {
   "cell_type": "code",
   "execution_count": 6,
   "id": "biological-gamma",
   "metadata": {
    "execution": {
     "iopub.execute_input": "2021-04-02T16:57:06.750329Z",
     "iopub.status.busy": "2021-04-02T16:57:06.749934Z",
     "iopub.status.idle": "2021-04-02T16:57:08.305655Z",
     "shell.execute_reply": "2021-04-02T16:57:08.303343Z",
     "shell.execute_reply.started": "2021-04-02T16:57:06.750283Z"
    }
   },
   "outputs": [],
   "source": [
    "wf.prepare_webfish()"
   ]
  },
  {
   "cell_type": "code",
   "execution_count": 7,
   "id": "eligible-verification",
   "metadata": {
    "execution": {
     "iopub.execute_input": "2021-04-02T16:57:09.267049Z",
     "iopub.status.busy": "2021-04-02T16:57:09.266521Z",
     "iopub.status.idle": "2021-04-02T16:57:22.330021Z",
     "shell.execute_reply": "2021-04-02T16:57:22.328912Z",
     "shell.execute_reply.started": "2021-04-02T16:57:09.266983Z"
    }
   },
   "outputs": [],
   "source": [
    "wf.launch_webfish()"
   ]
  },
  {
   "cell_type": "code",
   "execution_count": 5,
   "id": "finnish-alcohol",
   "metadata": {
    "execution": {
     "iopub.execute_input": "2021-04-02T17:50:24.339181Z",
     "iopub.status.busy": "2021-04-02T17:50:24.338981Z",
     "iopub.status.idle": "2021-04-02T17:50:24.542244Z",
     "shell.execute_reply": "2021-04-02T17:50:24.540672Z",
     "shell.execute_reply.started": "2021-04-02T17:50:24.339158Z"
    }
   },
   "outputs": [
    {
     "data": {
      "text/plain": [
       "{'TerminatingInstances': [{'CurrentState': {'Code': 32,\n",
       "    'Name': 'shutting-down'},\n",
       "   'InstanceId': 'i-06bd5f9b2114de937',\n",
       "   'PreviousState': {'Code': 16, 'Name': 'running'}}],\n",
       " 'ResponseMetadata': {'RequestId': 'b1bb004b-a7eb-4fc8-98e2-ff35a2ec4943',\n",
       "  'HTTPStatusCode': 200,\n",
       "  'HTTPHeaders': {'x-amzn-requestid': 'b1bb004b-a7eb-4fc8-98e2-ff35a2ec4943',\n",
       "   'cache-control': 'no-cache, no-store',\n",
       "   'strict-transport-security': 'max-age=31536000; includeSubDomains',\n",
       "   'content-type': 'text/xml;charset=UTF-8',\n",
       "   'transfer-encoding': 'chunked',\n",
       "   'vary': 'accept-encoding',\n",
       "   'date': 'Fri, 02 Apr 2021 17:50:23 GMT',\n",
       "   'server': 'AmazonEC2'},\n",
       "  'RetryAttempts': 0}}"
      ]
     },
     "execution_count": 5,
     "metadata": {},
     "output_type": "execute_result"
    }
   ],
   "source": [
    "ec2.client.terminate_instances(InstanceIds=ec2.instances['ID'].values.tolist())"
   ]
  },
  {
   "cell_type": "code",
   "execution_count": null,
   "id": "dedicated-coach",
   "metadata": {},
   "outputs": [],
   "source": [
    "ip"
   ]
  }
 ],
 "metadata": {
  "kernelspec": {
   "display_name": "Python 3",
   "language": "python",
   "name": "python3"
  },
  "language_info": {
   "codemirror_mode": {
    "name": "ipython",
    "version": 3
   },
   "file_extension": ".py",
   "mimetype": "text/x-python",
   "name": "python",
   "nbconvert_exporter": "python",
   "pygments_lexer": "ipython3",
   "version": "3.7.8"
  }
 },
 "nbformat": 4,
 "nbformat_minor": 5
}
